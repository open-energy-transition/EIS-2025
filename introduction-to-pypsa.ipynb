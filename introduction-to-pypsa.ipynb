{
 "cells": [
  {
   "cell_type": "markdown",
   "metadata": {},
   "source": [
    "## PyPSA Introduction Notebook"
   ]
  },
  {
   "cell_type": "markdown",
   "metadata": {},
   "source": [
    "<div style=\"display: flex; align-items: center; justify-content: space-between; gap: 1rem; flex-wrap: wrap;\">\n",
    "\n",
    "  <div style=\"flex: 1; min-width: 250px;\">\n",
    "    <p><strong>Author:</strong><br>\n",
    "    Priyesh Gosai – Energy Systems Modeler and Training Coordinator</p>\n",
    "    <p><strong>Contributors:</strong><br>\n",
    "    Daniel Rüdt – Energy Systems Modeler<br>\n",
    "    Thomas Gilon – Energy Systems Modeler</p>\n",
    "  </div>\n",
    "\n",
    "  <div style=\"flex: 0 0 auto;\">\n",
    "    <a href=\"https://openenergytransition.org/index.html\" target=\"_blank\">\n",
    "      <img src=\"https://openenergytransition.org/assets/img/oet-logo-red-n-subtitle.png\" height=\"60\" alt=\"Open Energy Transition logo\">\n",
    "    </a>\n",
    "  </div>\n",
    "\n",
    "</div>\n"
   ]
  },
  {
   "cell_type": "markdown",
   "metadata": {},
   "source": [
    "### ⚙️ Setup Environment"
   ]
  },
  {
   "cell_type": "markdown",
   "metadata": {},
   "source": [
    "**💻 Running in Google Colab**\n",
    "\n",
    "This notebook is designed to run in **Google Colab**, which provides access to a cloud-based virtual machine. While this is convenient and requires no local setup, it's important to note that **Colab sessions are temporary** — all files and installations are **lost when the session ends**.\n",
    "\n",
    "To ensure your work is preserved:\n",
    "\n",
    "- The notebook is set up to **link with your Google Drive**. This allows you to save input files, results, and any model modifications to your own Drive for later use.\n",
    "\n",
    "- The notebook is also linked to a **GitHub repository**. You can choose whether or not to **pull the latest version of the repository** each time you run the notebook using the boolean options provided below.\n",
    "\n",
    "  - If enabled, the notebook will:\n",
    "    - Pull the latest version of the repository into your Drive.\n",
    "    - Create a backup folder containing your existing work, timestamped for traceability.\n",
    "    - To avoid cluttering your Google Drive, remember to delete old backups or set the `backup_old_repo = False` option.\n",
    "\n",
    "Another consideration when using Colab is that **PyPSA and several required packages are not pre-installed** in the Colab environment. These packages must be installed manually each time you connect to a new VM.\n",
    "\n",
    "For both the GitHub sync and the package installation process, we’ve provided boolean flags that let you **skip these steps** if desired. This gives you more control over the setup process, especially when restarting work or debugging.\n",
    "\n"
   ]
  },
  {
   "cell_type": "markdown",
   "metadata": {},
   "source": [
    "**Setup Environment**\n",
    "1. Provide the path to the repository for this project.\n",
    "2. Confirm if this is the first run in the Google Colab environment.\n",
    "3. Confirm if you want to update the repository with the latest changes."
   ]
  },
  {
   "cell_type": "code",
   "execution_count": null,
   "metadata": {},
   "outputs": [],
   "source": [
    "repo_path  = f'https://github.com/open-energy-transition/EIS-2025'\n",
    "first_run = True # Set to True if this is the first run of the in the Google Colab environment\n",
    "update_repo = True # Set to True if you want to update the repository with the latest changes"
   ]
  },
  {
   "cell_type": "code",
   "execution_count": null,
   "metadata": {},
   "outputs": [],
   "source": [
    "# @title Connect this Notebook to your Google Drive\n",
    "# @markdown Run this cell to link this notebook to the GitHub repository. <br>\n",
    "# @markdown If the repository already exists, it will back up any modified files and force pull the latest changes.\n",
    "from google.colab import drive\n",
    "import os\n",
    "import subprocess\n",
    "import shutil\n",
    "from datetime import datetime\n",
    "import urllib.request\n",
    "\n",
    "# Mount Google Drive\n",
    "drive.mount('/content/drive')\n",
    "\n",
    "# Base directory\n",
    "base_dir = '/content/drive/MyDrive/'\n",
    "os.chdir(base_dir)\n",
    "\n",
    "FOLDER = os.path.basename(repo_path)\n",
    "\n",
    "\n",
    "if update_repo:\n",
    "\n",
    "\n",
    "    # Get timestamp\n",
    "    timestamp = datetime.now().strftime(\"%Y%m%d_%H%M\")\n",
    "    backup_folder = f'Backup_{timestamp}'\n",
    "    backup_path = os.path.join(base_dir, backup_folder)\n",
    "\n",
    "    # If repo exists, back up and force pull\n",
    "    if os.path.exists(repo_path):\n",
    "        os.chdir(repo_path)\n",
    "\n",
    "        # Get list of modified and untracked files\n",
    "        result = subprocess.run(['git', 'status', '--porcelain'], stdout=subprocess.PIPE, text=True)\n",
    "        changed_files = [line[3:] for line in result.stdout.splitlines() if line and line[0] in ('M', 'A', '??')]\n",
    "\n",
    "        if changed_files:\n",
    "            os.makedirs(backup_path, exist_ok=True)\n",
    "            print(f\"Backing up {len(changed_files)} changed files to {backup_folder}...\")\n",
    "            for file in changed_files:\n",
    "                src = os.path.join(repo_path, file)\n",
    "                dst = os.path.join(backup_path, file)\n",
    "                os.makedirs(os.path.dirname(dst), exist_ok=True)\n",
    "                if os.path.exists(src):\n",
    "                    shutil.copy2(src, dst)\n",
    "\n",
    "        # Force pull: reset local repo to match remote\n",
    "        subprocess.run(['git', 'fetch', 'origin'])\n",
    "        subprocess.run(['git', 'reset', '--hard', 'origin/main'])\n",
    "\n",
    "    else:\n",
    "        os.chdir(base_dir)\n",
    "        subprocess.run(['git', 'clone', repo_path])\n",
    "\n",
    "    \n",
    "    files = {\n",
    "        \"network_blank.xlsx\": \"17haq369Y7-5JFRjESfDbUUljVyIEUS4u\",  # file ID\n",
    "        \"network_south_africa.xlsx\": \"1hBqZjotxDuZOQb-kkC0JePbc3gxCGcwq\",  # file ID\n",
    "    }\n",
    "\n",
    "    for name, file_id in files.items():\n",
    "        print(f\"Retrieving {name} from Google Drive\")\n",
    "        url = f\"https://docs.google.com/uc?export=download&id={file_id}\"\n",
    "        urllib.request.urlretrieve(url, name)\n",
    "\n",
    "    print(\"Current working directory:\", os.getcwd())"
   ]
  },
  {
   "cell_type": "code",
   "execution_count": null,
   "metadata": {},
   "outputs": [],
   "source": [
    "# @title Install the required packages\n",
    "# @markdown Run this cell to install the necessary Python packages for the project.\n",
    "if first_run:\n",
    "    import subprocess, sys, importlib\n",
    "\n",
    "    packages = [\n",
    "        \"pypsa\",        # power‑system modelling & optimization toolbox :contentReference[oaicite:1]{index=1}\n",
    "        \"pypsa[excel]\", # pypsa with Excel I/O support\n",
    "        \"folium\",       # interactive leaflet‑based maps in Python\n",
    "        \"atlite\",       # convert weather reanalysis into energy time‑series :contentReference[oaicite:2]{index=2}\n",
    "        \"pandas\",       # tabular data manipulation\n",
    "        \"geopandas\",    # pandas + GIS/spatial data support\n",
    "        \"xarray\",       # multi‑dim labeled array handling (e.g. gridded data)\n",
    "        \"matplotlib\",   # foundational 2D plotting library\n",
    "        \"hvplot\",       # high‑level interactive plotting API built on HoloViews\n",
    "        \"geoviews\",     # geographic plotting extension for HoloViews\n",
    "        \"plotly\",       # interactive plots and dashboards\n",
    "        \"highspy\",      # Python wrapper for the high‑performance HiGHS optimizer :contentReference[oaicite:3]{index=3}\n",
    "        \"holoviews\",    # declarative visualization library for complex plots\n",
    "        \"mapclassify\"   # spatial data classification schemes for choropleth maps\n",
    "    ]\n",
    "\n",
    "    subprocess.run(\n",
    "        [sys.executable, \"-m\", \"pip\", \"install\", \"-q\", *packages],\n",
    "        check=True\n",
    "    )\n",
    "\n",
    "    missing = [p for p in packages if importlib.util.find_spec(p.split(\"[\")[0]) is None]\n",
    "    print(\"✅ All installed!\" if not missing else f\"❌ Missing: {', '.join(missing)}\")\n"
   ]
  },
  {
   "cell_type": "markdown",
   "metadata": {},
   "source": [
    "### 🧭 Navigating the PyPSA Object"
   ]
  },
  {
   "cell_type": "markdown",
   "metadata": {},
   "source": [
    "**Initialize the PyPSA Network** <br>\n",
    "This cell initializes a PyPSA network  using the meshed AC/DC example."
   ]
  },
  {
   "cell_type": "code",
   "execution_count": null,
   "metadata": {},
   "outputs": [],
   "source": [
    "import pypsa\n",
    "import pandas as pd\n",
    "pd.options.plotting.backend = \"plotly\"\n",
    "network = pypsa.examples.ac_dc_meshed()"
   ]
  },
  {
   "cell_type": "markdown",
   "metadata": {},
   "source": [
    "To create a blank PyPSA `Network`, use:\n",
    "\n",
    "```python\n",
    "network = pypsa.Network()\n",
    "```\n",
    "\n",
    "To import an existing network from a supported file format (e.g. HDF5, NetCDF, CSV folder, or Excel), pass the file path:\n",
    "\n",
    "```python\n",
    "network = pypsa.Network(\"filename.xx\")\n",
    "```\n"
   ]
  },
  {
   "cell_type": "markdown",
   "metadata": {},
   "source": [
    "Display Network Components"
   ]
  },
  {
   "cell_type": "code",
   "execution_count": null,
   "metadata": {},
   "outputs": [],
   "source": [
    "network.components"
   ]
  },
  {
   "cell_type": "code",
   "execution_count": null,
   "metadata": {},
   "outputs": [],
   "source": [
    "# @title Component naming conventions\n",
    "# @markdown PyPSA follows Python conventions: \n",
    "# @markdown   - PascalCase for component classes. \n",
    "# @markdown   - snake_case for attributes and methods.\n",
    "\n",
    "\n",
    "for key in network.component_attrs:\n",
    "    print(f'{key.ljust(20)} {network.components[key][\"list_name\"]}')"
   ]
  },
  {
   "cell_type": "markdown",
   "metadata": {},
   "source": [
    "**Accessing Component Attributes**\n",
    "\n",
    "We can also access the component attributes directly:\n",
    "\n",
    "In the next cell, change the `ComponentName` using PascalCase as a string to view the attributes"
   ]
  },
  {
   "cell_type": "code",
   "execution_count": null,
   "metadata": {},
   "outputs": [],
   "source": [
    "ComponentName = 'Generator' \n",
    "# ComponentName = 'Bus'\n",
    "# ComponentName = 'Link'\n",
    "# ComponentName = 'Line'\n",
    "# ComponentName = 'Carrier'\n",
    "\n",
    "network.component_attrs[ComponentName ]"
   ]
  },
  {
   "cell_type": "code",
   "execution_count": null,
   "metadata": {},
   "outputs": [],
   "source": [
    "# @title List of Methods in the Network Object\n",
    "# @markdown This cell lists all the methods available in the `pypsa.Network` object.\n",
    "# @markdown You can use these methods to interact with the network object.  \n",
    "# @markdown The methods are displayed in a grid format for better readability.\n",
    "\n",
    "import inspect\n",
    "\n",
    "methods = sorted(\n",
    "    name for name, func in inspect.getmembers(network, inspect.ismethod)\n",
    "    if not name.startswith(\"_\")\n",
    ")\n",
    "\n",
    "n_cols = 3\n",
    "n_rows = (len(methods) + n_cols - 1) // n_cols\n",
    "col_width = max(len(m) for m in methods) + 2\n",
    "\n",
    "for row_idx in range(n_rows):\n",
    "    for col_idx in range(n_cols):\n",
    "        idx = col_idx * n_rows + row_idx\n",
    "        if idx < len(methods):\n",
    "            print(methods[idx].ljust(col_width), end=\"\")\n",
    "    print()\n"
   ]
  },
  {
   "cell_type": "markdown",
   "metadata": {},
   "source": [
    "**View the signature, docstring, and source location.**\n",
    "\n",
    "You can view the description of a specific method by changing the `method_name` variable."
   ]
  },
  {
   "cell_type": "code",
   "execution_count": null,
   "metadata": {},
   "outputs": [],
   "source": [
    "network.add?"
   ]
  },
  {
   "cell_type": "markdown",
   "metadata": {},
   "source": [
    "**Explore the Network**\n",
    "\n",
    "This cell provides an interactive map of the network using the `explore` method using Folium.\n"
   ]
  },
  {
   "cell_type": "code",
   "execution_count": null,
   "metadata": {},
   "outputs": [],
   "source": [
    "network.plot.explore()"
   ]
  },
  {
   "cell_type": "markdown",
   "metadata": {},
   "source": [
    "We can create the model without solving it. "
   ]
  },
  {
   "cell_type": "code",
   "execution_count": null,
   "metadata": {},
   "outputs": [],
   "source": [
    "network.optimize.create_model()"
   ]
  },
  {
   "cell_type": "markdown",
   "metadata": {},
   "source": [
    "We can view the constraints."
   ]
  },
  {
   "cell_type": "code",
   "execution_count": null,
   "metadata": {},
   "outputs": [],
   "source": [
    "network.model"
   ]
  },
  {
   "cell_type": "markdown",
   "metadata": {},
   "source": [
    "**Optimize the Network**\n",
    "\n",
    "This cell runs the optimization on the network. The default solver is HiGHS, which is a high-performance open-source solver for linear programming problems.\n",
    "\n",
    "You can change the solver by modifying the `solver_name` parameter in the `network.optimize()` method."
   ]
  },
  {
   "cell_type": "markdown",
   "metadata": {},
   "source": [
    "Additional advanced features in PyPSA may be of interest to some users, including support for [custom constraints](https://pypsa.readthedocs.io/en/latest/user-guide/optimal-power-flow.html#custom-constraints), [rolling horizon optimization](https://pypsa.readthedocs.io/en/latest/user-guide/optimal-power-flow.html#rolling-horizon-optimization), and several other modeling options. \n",
    "\n",
    "For a full overview, visit the [System Optimization](https://pypsa.readthedocs.io/en/latest/user-guide/optimal-power-flow.html#) section of the PyPSA documentation.\n"
   ]
  },
  {
   "cell_type": "code",
   "execution_count": null,
   "metadata": {},
   "outputs": [],
   "source": [
    "network.optimize()"
   ]
  },
  {
   "cell_type": "markdown",
   "metadata": {},
   "source": [
    "In the next section we look at the inputs and outputs for this network.\n",
    "\n",
    "---"
   ]
  },
  {
   "cell_type": "markdown",
   "metadata": {},
   "source": [
    "### 🗃️ Data in the PyPSA Object"
   ]
  },
  {
   "cell_type": "code",
   "execution_count": null,
   "metadata": {},
   "outputs": [],
   "source": [
    "# @title Download prepared networks\n",
    "# @markdown We have prepared a case study that can be explored in this notebook. The case is based on the electircity network from PyPSA-EUR. To allow users to interact with the data we have prepared two networks. One before the optimization and another after the optimization. Running this optimization is a computationally expensive task. \n",
    "# @markdown * `pre-network.nc`: The network is prepared before solving it. \n",
    "# @markdown * `post-network.nc`: The solved network\n",
    "\n",
    "from urllib.request import urlretrieve\n",
    "\n",
    "urls = {\n",
    "    \"pre-network.nc\": \"https://drive.usercontent.google.com/download?id=17b7YZGXKczY2K5sRPUDJkD5AVwgbOgAh&export=download\",\n",
    "    \"post-network.nc\": \"https://drive.usercontent.google.com/download?id=1qIN0tlZBACPtKCBxHUpBAecBqYsy-sTV&export=download&confirm=t&uuid=cf9cb5cf-de33-4ef4-9f49-5f01f2d571b1\",\n",
    "    }\n",
    "for name, url in urls.items():\n",
    "    print(f\"Retrieving {name} from Google Drive\")\n",
    "    urlretrieve(url, name)\n",
    "print(\"Done\")"
   ]
  },
  {
   "cell_type": "markdown",
   "metadata": {},
   "source": [
    "Import the `pre-network` to an object called `network_eur`"
   ]
  },
  {
   "cell_type": "code",
   "execution_count": null,
   "metadata": {},
   "outputs": [],
   "source": [
    "pre_network_eur = pypsa.Network(\"pre-network.nc\")"
   ]
  },
  {
   "cell_type": "markdown",
   "metadata": {},
   "source": [
    "Inspect the data in the network. \n",
    "\n",
    "_All data in a PyPSA model is stored as pandas DataFrames, allowing you to apply any standard pandas operations directly to PyPSA network components._"
   ]
  },
  {
   "cell_type": "code",
   "execution_count": null,
   "metadata": {},
   "outputs": [],
   "source": [
    "pre_network_eur.buses"
   ]
  },
  {
   "cell_type": "code",
   "execution_count": null,
   "metadata": {},
   "outputs": [],
   "source": [
    "pre_network_eur.generators"
   ]
  },
  {
   "cell_type": "code",
   "execution_count": null,
   "metadata": {},
   "outputs": [],
   "source": [
    "pre_network_eur.generators_t.p_max_pu.head()"
   ]
  },
  {
   "cell_type": "code",
   "execution_count": null,
   "metadata": {},
   "outputs": [],
   "source": [
    "pre_network_eur.generators_t.p_max_pu.plot()"
   ]
  },
  {
   "cell_type": "code",
   "execution_count": null,
   "metadata": {},
   "outputs": [],
   "source": [
    "pre_network_eur.links"
   ]
  },
  {
   "cell_type": "code",
   "execution_count": null,
   "metadata": {},
   "outputs": [],
   "source": [
    "pre_network_eur.lines"
   ]
  },
  {
   "cell_type": "code",
   "execution_count": null,
   "metadata": {},
   "outputs": [],
   "source": [
    "pre_network_eur.loads"
   ]
  },
  {
   "cell_type": "markdown",
   "metadata": {},
   "source": [
    "If you wanted to solve the network we could run: \n",
    "```python\n",
    "pre_network_eur.optimize(solver_name = 'gurobi') # Assuming that you have a licence. \n",
    "```\n",
    "\n",
    "The solved network data is imported from the file `post-network.nc`"
   ]
  },
  {
   "cell_type": "code",
   "execution_count": null,
   "metadata": {},
   "outputs": [],
   "source": [
    "post_network_eur = pypsa.Network(\"post-network.nc\")"
   ]
  },
  {
   "cell_type": "markdown",
   "metadata": {},
   "source": [
    "#### 🧮 Results"
   ]
  },
  {
   "cell_type": "markdown",
   "metadata": {},
   "source": [
    "---\n",
    "\n",
    "📊 `pypsa.statistics`\n",
    "\n",
    "The `pypsa.statistics` module provides a set of high-level functions for analyzing and summarizing the results of PyPSA models. It enables users to compute key metrics such as:\n",
    "\n",
    "- **Generation mix** by technology  \n",
    "- **Installed capacity** summaries  \n",
    "- **Line loading** and **congestion metrics**  \n",
    "- **Costs and revenues** by component  \n",
    "- **CO₂ emissions** and carbon intensity  \n",
    "- **Regional energy balances** and **power flows**\n",
    "\n",
    "These functions are especially useful for post-processing model results and producing plots or reports for scenario analysis, capacity expansion studies, and policy evaluation.\n",
    "\n",
    "The module works directly with the PyPSA `Network` object and leverages pandas operations internally, so results are returned as DataFrames that can be easily visualized or exported.\n",
    "\n",
    "\n"
   ]
  },
  {
   "cell_type": "code",
   "execution_count": null,
   "metadata": {},
   "outputs": [],
   "source": [
    "s = post_network_eur.statistics"
   ]
  },
  {
   "cell_type": "markdown",
   "metadata": {},
   "source": [
    "You can easily have an comprehensive overview of the system level results."
   ]
  },
  {
   "cell_type": "code",
   "execution_count": null,
   "metadata": {},
   "outputs": [],
   "source": [
    "s().head()"
   ]
  },
  {
   "cell_type": "markdown",
   "metadata": {},
   "source": [
    "Let's have a look to optimal renewable capacities."
   ]
  },
  {
   "cell_type": "code",
   "execution_count": null,
   "metadata": {},
   "outputs": [],
   "source": [
    "(\n",
    "    s.optimal_capacity(\n",
    "        bus_carrier=[\"AC\", \"low voltage\"],\n",
    "        comps=\"Generator\",\n",
    "    ).div(\n",
    "        1e3\n",
    "    )  # GW\n",
    ")"
   ]
  },
  {
   "cell_type": "markdown",
   "metadata": {},
   "source": [
    "You can get it as fancy as you want!"
   ]
  },
  {
   "cell_type": "code",
   "execution_count": null,
   "metadata": {},
   "outputs": [],
   "source": [
    "(\n",
    "    s.optimal_capacity(\n",
    "        bus_carrier=[\"AC\", \"low voltage\"],\n",
    "        groupby=[\"location\", \"carrier\"],\n",
    "        comps=\"Generator\",\n",
    "    )\n",
    "    .div(1e3)  # GW\n",
    "    .to_frame(name=\"p_nom_opt\")\n",
    "    .pivot_table(index=\"location\", columns=\"carrier\", values=\"p_nom_opt\")\n",
    "    .fillna(0)\n",
    "    .assign(Total=lambda df: df.sum(axis=1))\n",
    "    .sort_values(by=\"Total\", ascending=False)\n",
    "    .round(2)\n",
    ").head()"
   ]
  },
  {
   "cell_type": "markdown",
   "metadata": {},
   "source": [
    "We can also easily look into the energy balance for a specific carrier by Node. \n",
    "\n",
    "So, let's investigate the Hydrogen balance at the Z1 and Z2 nodes of Germany (DE):"
   ]
  },
  {
   "cell_type": "code",
   "execution_count": null,
   "metadata": {},
   "outputs": [],
   "source": [
    "df = (\n",
    "    s.energy_balance(groupby=[\"bus_carrier\", \"country\", \"bus\", \"carrier\", \"name\"])\n",
    "    .div(1e6)  # TWh\n",
    "    .to_frame(name=\"Balance [TWh]\")\n",
    "    .query(\n",
    "        \"(bus_carrier.str.contains('Hydrogen')) \"\n",
    "        \"and (country == 'DE') \"\n",
    "        \" and (abs(`Balance [TWh]`) > 1e-2)\"\n",
    "    )\n",
    "    .round(2)\n",
    ")\n",
    "df"
   ]
  },
  {
   "cell_type": "code",
   "execution_count": null,
   "metadata": {},
   "outputs": [],
   "source": [
    "# verify energy balance\n",
    "df.groupby(by=\"bus\").sum()"
   ]
  },
  {
   "cell_type": "code",
   "execution_count": null,
   "metadata": {},
   "outputs": [],
   "source": [
    "exports = df.query(\"name.str.contains('DE ->')\")\n",
    "export_twh = exports[\"Balance [TWh]\"].sum().round(2)\n",
    "print(f\"DE exports {export_twh} TWh of H2.\")\n",
    "\n",
    "imports = df.query(\n",
    "    \"(name.str.contains('-> DE')) and not (name.str.contains('Z1')) and not (name.str.contains('Z2'))\"\n",
    ")\n",
    "import_twh = imports[\"Balance [TWh]\"].sum().round(2)\n",
    "print(f\"DE imports {import_twh} TWh of H2.\")\n",
    "\n",
    "balance_twh = import_twh + export_twh\n",
    "print(\n",
    "    f\"DE is a net {'importer' if balance_twh > 0 else 'exporter'} ({balance_twh.round(2)} TWh).\"\n",
    ")"
   ]
  },
  {
   "cell_type": "markdown",
   "metadata": {},
   "source": [
    "... or look at renewable curtailment in the system:"
   ]
  },
  {
   "cell_type": "code",
   "execution_count": null,
   "metadata": {},
   "outputs": [],
   "source": [
    "(\n",
    "    s.curtailment(\n",
    "        bus_carrier=[\"AC\", \"low voltage\"],\n",
    "        groupby=[\"location\", \"carrier\"],\n",
    "    )\n",
    "    .div(1e6)  # TWh\n",
    "    .to_frame(name=\"p_nom_opt\")\n",
    "    .pivot_table(index=\"location\", columns=\"carrier\", values=\"p_nom_opt\")\n",
    "    .fillna(0)\n",
    "    .assign(Total=lambda df: df.sum(axis=1))\n",
    "    .sort_values(by=\"Total\", ascending=False)\n",
    "    .round(2)\n",
    ").head()"
   ]
  },
  {
   "cell_type": "markdown",
   "metadata": {},
   "source": [
    "---\n",
    "📈 `pypsa.plot`\n",
    "\n",
    "PyPSA also includes a built-in `pypsa.plot` module that provides a small set of standard plotting functions. These are useful for quickly visualizing key aspects of your network, such as:\n",
    "\n",
    "- Network topology (buses, lines, generators)\n",
    "- Line loading and power flows\n",
    "- Generation dispatch over time\n",
    "- Installed capacities and time-series data\n",
    "\n",
    "These plots are useful for exploratory analysis and debugging and can be customized using `matplotlib`.\n",
    "\n",
    "For more advanced or interactive visualizations, you may consider combining PyPSA outputs with external libraries such as `plotly`, `holoviews`, or `hvplot`.\n"
   ]
  },
  {
   "cell_type": "code",
   "execution_count": null,
   "metadata": {},
   "outputs": [],
   "source": [
    "# let's fill missing colors first\n",
    "pd.options.plotting.backend = \"matplotlib\"\n",
    "post_network_eur.carriers.loc[\"none\", \"color\"] =\"#000000\"\n",
    "post_network_eur.carriers.loc[\"\", \"color\"] = \"#000000\""
   ]
  },
  {
   "cell_type": "markdown",
   "metadata": {},
   "source": [
    "Let's now plot the optimal renewable capacities that we investigated before."
   ]
  },
  {
   "cell_type": "code",
   "execution_count": null,
   "metadata": {},
   "outputs": [],
   "source": [
    "s.optimal_capacity.plot.bar(\n",
    "    bus_carrier=\"AC\",\n",
    "    query=\"value>1e3\",\n",
    "    height=6,\n",
    ");"
   ]
  },
  {
   "cell_type": "markdown",
   "metadata": {},
   "source": [
    "You can also have details for specific countries."
   ]
  },
  {
   "cell_type": "code",
   "execution_count": null,
   "metadata": {},
   "outputs": [],
   "source": [
    "s.optimal_capacity.plot.bar(\n",
    "    bus_carrier=\"AC\",\n",
    "    query=\"value>1e3 and country in ['DE', 'FR']\",\n",
    "    height=6,\n",
    "    facet_col=\"country\",\n",
    ");"
   ]
  },
  {
   "cell_type": "markdown",
   "metadata": {},
   "source": [
    "You can have a closer look to the wind production"
   ]
  },
  {
   "cell_type": "code",
   "execution_count": null,
   "metadata": {},
   "outputs": [],
   "source": [
    "s.energy_balance.plot.line(\n",
    "    facet_row=\"bus_carrier\",\n",
    "    y=\"value\",\n",
    "    x=\"snapshot\",\n",
    "    carrier=\"wind\",\n",
    "    nice_names=False,\n",
    "    color=\"carrier\",\n",
    "    aspect=5.0,\n",
    ");"
   ]
  },
  {
   "cell_type": "markdown",
   "metadata": {},
   "source": [
    "... or to the dispatch for specific countries."
   ]
  },
  {
   "cell_type": "code",
   "execution_count": null,
   "metadata": {},
   "outputs": [],
   "source": [
    "s.energy_balance.plot.area(\n",
    "    bus_carrier=[\"AC\"],\n",
    "    y=\"value\",\n",
    "    x=\"snapshot\",\n",
    "    color=\"carrier\",\n",
    "    stacked=True,\n",
    "    facet_row=\"country\",\n",
    "    query=\"country in ['DE', 'FR'] and snapshot < '2013-03'\",\n",
    "    aspect=5,\n",
    ");"
   ]
  },
  {
   "cell_type": "markdown",
   "metadata": {},
   "source": [
    "You can also explore H2 results."
   ]
  },
  {
   "cell_type": "code",
   "execution_count": null,
   "metadata": {},
   "outputs": [],
   "source": [
    "s.energy_balance.plot.bar(\n",
    "    bus_carrier=[\"H2\"],\n",
    "    y=\"carrier\",\n",
    "    x=\"value\",\n",
    "    color=\"carrier\",\n",
    "    facet_col=\"country\",\n",
    "    height=4,\n",
    "    aspect=1,\n",
    "    query=\"country in ['DE', 'FR']\",\n",
    ");"
   ]
  },
  {
   "cell_type": "markdown",
   "metadata": {},
   "source": [
    "You can also explore the correlation between renewable production and hydrogen."
   ]
  },
  {
   "cell_type": "code",
   "execution_count": null,
   "metadata": {},
   "outputs": [],
   "source": [
    "s.energy_balance.plot.area(\n",
    "    bus_carrier=[\"AC\", \"H2\"],\n",
    "    y=\"value\",\n",
    "    x=\"snapshot\",\n",
    "    color=\"carrier\",\n",
    "    stacked=True,\n",
    "    facet_row=\"bus_carrier\",\n",
    "    sharex=False,\n",
    "    sharey=False,\n",
    "    query=\"snapshot < '2013-03'\",\n",
    "    aspect=5,\n",
    ");"
   ]
  },
  {
   "cell_type": "markdown",
   "metadata": {},
   "source": [
    "### 🚀 Getting started with your own PyPSA Model  "
   ]
  },
  {
   "cell_type": "markdown",
   "metadata": {},
   "source": [
    "* PyPSA v0.34 introduced support for importing models directly from Excel files, where each sheet is named according to PyPSA's component naming conventions.\n",
    "* This feature provides an easy starting point for building your first PyPSA model.\n",
    "* This repository includes:\n",
    "   * A blank Excel template you can use to start your own model.\n",
    "   * A completed example model of a simple power system for reference.\n",
    "        * The model uses nine nodes to represent the South African power system.\n",
    "        * Interconnected using links to simplify the network structure.\n",
    "As models grow more complex, it's recommended to adopt a more robust and reproducible workflow for long-term development and collaboration."
   ]
  },
  {
   "cell_type": "markdown",
   "metadata": {},
   "source": [
    "To import the excel file\n",
    "\n",
    "\n",
    "```python \n",
    "network_name = pypsa.Network('network_name.xlsx')\n",
    "\n",
    "```"
   ]
  },
  {
   "cell_type": "code",
   "execution_count": null,
   "metadata": {},
   "outputs": [],
   "source": []
  },
  {
   "cell_type": "code",
   "execution_count": null,
   "metadata": {},
   "outputs": [],
   "source": []
  },
  {
   "cell_type": "code",
   "execution_count": null,
   "metadata": {},
   "outputs": [],
   "source": []
  },
  {
   "cell_type": "code",
   "execution_count": null,
   "metadata": {},
   "outputs": [],
   "source": []
  },
  {
   "cell_type": "markdown",
   "metadata": {},
   "source": [
    "Explore the South African Example"
   ]
  },
  {
   "cell_type": "code",
   "execution_count": null,
   "metadata": {},
   "outputs": [],
   "source": [
    "import pypsa"
   ]
  },
  {
   "cell_type": "code",
   "execution_count": null,
   "metadata": {},
   "outputs": [],
   "source": [
    "network_za = pypsa.Network('network_south_africa.xlsx')"
   ]
  },
  {
   "cell_type": "code",
   "execution_count": null,
   "metadata": {},
   "outputs": [],
   "source": [
    "network_za.loads"
   ]
  },
  {
   "cell_type": "code",
   "execution_count": null,
   "metadata": {},
   "outputs": [],
   "source": [
    "network_za.buses # and similarly for other components"
   ]
  },
  {
   "cell_type": "code",
   "execution_count": null,
   "metadata": {},
   "outputs": [],
   "source": [
    "network_za.optimize() # This will run the optimization on the network"
   ]
  },
  {
   "cell_type": "code",
   "execution_count": null,
   "metadata": {},
   "outputs": [],
   "source": [
    "\n",
    "network_za.export_to_excel('network_export.xlsx') # Export the network to an Excel file\n"
   ]
  },
  {
   "cell_type": "markdown",
   "metadata": {},
   "source": [
    "---"
   ]
  }
 ],
 "metadata": {
  "kernelspec": {
   "display_name": "pypsa-edl-env",
   "language": "python",
   "name": "python3"
  },
  "language_info": {
   "codemirror_mode": {
    "name": "ipython",
    "version": 3
   },
   "file_extension": ".py",
   "mimetype": "text/x-python",
   "name": "python",
   "nbconvert_exporter": "python",
   "pygments_lexer": "ipython3",
   "version": "3.13.3"
  }
 },
 "nbformat": 4,
 "nbformat_minor": 2
}
